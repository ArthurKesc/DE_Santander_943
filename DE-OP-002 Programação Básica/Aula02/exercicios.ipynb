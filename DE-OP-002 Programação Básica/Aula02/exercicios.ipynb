{
 "cells": [
  {
   "cell_type": "code",
   "execution_count": null,
   "metadata": {},
   "outputs": [],
   "source": [
    "#Faça um programa que peça a idade do usuário e imprima se ele é maior ou menor de 18 anos. \n",
    "\n",
    "idade = 0\n",
    "Prog = \"i\"\n",
    "\n",
    "while Prog == \"i\":\n",
    "    idade = int(input(\"Qual a sua idade?\"))\n",
    "    if idade > 17:\n",
    "        print(f'Você ja é maior de idade!\\nSua idade é {idade}')\n",
    "    else:\n",
    "        print(\"MENOR\")\n",
    "        \n",
    "    Prog = (input(\"Para sair digite 'S'\"))\n",
    "    if Prog !=\"S\": Prog = \"i\""
   ]
  },
  {
   "cell_type": "code",
   "execution_count": null,
   "metadata": {},
   "outputs": [],
   "source": [
    "#Faça um programa que peça um número e mostre se ele é positivo ou negativo.\n",
    "\n",
    "valor = 0\n",
    "Prog = \"i\"\n",
    "\n",
    "while Prog == \"i\":\n",
    "    \n",
    "    valor = int(input(\"Coloque qualquer valor\"))\n",
    "    if valor > 0:\n",
    "        print(f'O seu valor é positivo (+) --> {valor}')\n",
    "    else:\n",
    "        print(f'O seu valor é Negativo (-) --> {valor}')\n",
    "        \n",
    "    Prog = (input(\"Para sair digite 'S'\"))\n",
    "    if Prog !=\"S\": Prog = \"i\""
   ]
  },
  {
   "cell_type": "code",
   "execution_count": null,
   "metadata": {},
   "outputs": [],
   "source": [
    "#Faça um programa que dado um número digitado, mostre se ele é Par ou Ímpar. \n",
    "valor = 0\n",
    "Prog = \"i\"\n",
    "\n",
    "while Prog == \"i\":\n",
    "    \n",
    "    valor = int(input(\"Coloque qualquer valor???\"))\n",
    "    if valor%2 == 0:\n",
    "        print(f'O seu valor é PAR --> {valor}')\n",
    "    else:\n",
    "        print(f'O seu valor é IMPAR --> {valor}')\n",
    "        \n",
    "    Prog = (input(\"Para sair digite 'S'\"))\n",
    "    if Prog !=\"S\": Prog = \"i\""
   ]
  },
  {
   "cell_type": "code",
   "execution_count": null,
   "metadata": {},
   "outputs": [],
   "source": [
    "#Faça um programa que peça dois números e mostre o maior deles. \n",
    "\n",
    "v1= 0\n",
    "v2 = 0\n",
    "Prog = \"i\"\n",
    "\n",
    "while Prog == \"i\":\n",
    "    \n",
    "    v1 = int(input(\"Escolha dois valores.\\n\\nDigite o Primeiro Valor: \"))\n",
    "    v2 = int(input(\"Digite o Segundo Valor: \"))\n",
    "    if v1>v2:\n",
    "        print(f'O primeiro valor \"{v1}\" é maior que o segundo valor digitado \"{v2}\"')\n",
    "    elif v2>v1:\n",
    "        print(f'O segundo valor \"{v2}\" é maior que o primeiro valor digitado \"{v1}\"')\n",
    "    else:\n",
    "        print(f'Os valores \"{v1}\" e \"{v2}\" São iguais')\n",
    "        \n",
    "    Prog = (input(\"Para sair digite 'S'\"))\n",
    "    if Prog !=\"S\": Prog = \"i\""
   ]
  },
  {
   "cell_type": "code",
   "execution_count": null,
   "metadata": {},
   "outputs": [],
   "source": [
    "#Faça um programa que leia a validade das informações:\n",
    "#a. Idade: entre 0 e 150;\n",
    "#b. Salário: maior que 0;\n",
    "#c. Sexo: M, F ou Outro; \n",
    "\n",
    "idade= 0\n",
    "salario = .0\n",
    "sexo = \"n\"\n",
    "tx = \"Ap\"\n",
    "Prog = \"i\"\n",
    "\n",
    "while Prog == \"i\":\n",
    "    \n",
    "    idade = int(input(\"Qual a sua Idade? \"))\n",
    "    salario = float(input(\"Qual o seu salário mensal total? \"))\n",
    "    sexo = (input(\"Qual o seu Sexo? - Use as letras iniciais 'M', 'F' ou 'O' para outros: \"))\n",
    "\n",
    "    if idade <= 0 or idade >= 150:\n",
    "        print(f'Sua idade não pode ser menor que 0 ou maior que 150\\n')\n",
    "    else:\n",
    "        print(f'Idade OK\\n')\n",
    "\n",
    "    if salario > 0:\n",
    "         print(f'Salário OK\\n')\n",
    "    else:\n",
    "         print(f'Seu salário não pode ser menor que ZERO\\n')    \n",
    "\n",
    "    if sexo == 'F' or sexo == 'f' or sexo == 'M' or sexo == 'm' or sexo == 'o' or sexo == 'O':\n",
    "        print(f'Sexo OK\\n')\n",
    "    else:\n",
    "        print(f'Você entrou com um valor fora do esperado\\n')    \n",
    "\n",
    "\n",
    "\n",
    "    Prog = (input(\"Para sair digite 'S'\"))\n",
    "    if Prog !=\"S\": Prog = \"i\""
   ]
  },
  {
   "cell_type": "code",
   "execution_count": 9,
   "metadata": {},
   "outputs": [
    {
     "name": "stdout",
     "output_type": "stream",
     "text": [
      "Reprovado.... Nota final média 6.0\n",
      "Você foi aprovado!! sua nota final foi \"9.0\"\n"
     ]
    }
   ],
   "source": [
    "# Escreva um programa que peça a nota de 3 provas de um aluno e verifique se ele passou o não de ano. \n",
    "v1 = .0\n",
    "v2 = .0\n",
    "V3 = .0\n",
    "Prog = \"i\"\n",
    "\n",
    "while Prog == \"i\":\n",
    "    \n",
    "    v1 = float(input(\"Informe o valor das 3 provas.\\n\\nDigite o valor da primeira prova: \"))\n",
    "    v2 = float(input(\"Digite o valor da segunda prova: \"))\n",
    "    v3 = float(input(\"Digite o valor da terceira prova: \"))\n",
    "\n",
    "    if (v1+v2+v3)/3 >= 7:\n",
    "        print(f'Você foi aprovado!! sua nota final foi \"{(v1+v2+v3)/3 }\"')\n",
    "    else:\n",
    "        print(f'Reprovado.... Nota final média {(v1+v2+v3)/3 }')\n",
    "        \n",
    "    Prog = (input(\"Para sair digite 'S'\"))\n",
    "    if Prog !=\"S\": Prog = \"i\""
   ]
  },
  {
   "cell_type": "code",
   "execution_count": null,
   "metadata": {},
   "outputs": [],
   "source": []
  }
 ],
 "metadata": {
  "kernelspec": {
   "display_name": "Python 3.9.12 ('base')",
   "language": "python",
   "name": "python3"
  },
  "language_info": {
   "codemirror_mode": {
    "name": "ipython",
    "version": 3
   },
   "file_extension": ".py",
   "mimetype": "text/x-python",
   "name": "python",
   "nbconvert_exporter": "python",
   "pygments_lexer": "ipython3",
   "version": "3.9.12"
  },
  "orig_nbformat": 4,
  "vscode": {
   "interpreter": {
    "hash": "cc1a37cd63083f7cb69061bb67f11ee6622bbc28a26690eb8f825fd41edc2219"
   }
  }
 },
 "nbformat": 4,
 "nbformat_minor": 2
}
