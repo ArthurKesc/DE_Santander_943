{
 "cells": [
  {
   "cell_type": "markdown",
   "metadata": {},
   "source": [
    "# Introdução - Python"
   ]
  },
  {
   "cell_type": "markdown",
   "metadata": {},
   "source": [
    "## IDE\n",
    "\n",
    "Uma IDE é a sigla para Integrated Development Environment e designa um software que reúne ferramentas comuns de desenvolvedor em uma única interface gráfica do usuário (GUI). \n",
    "\n",
    "\n",
    "Visual Studio Code - Extensão Jupyter\n",
    "\n",
    "Colab google - https://colab.research.google.com/\n",
    "\n",
    "Deep note - https://deepnote.com/\n",
    "\n",
    "JupyterLite - https://jupyter.org/try\n",
    "\n",
    "Kaggle Kernels - https://www.kaggle.com/\n",
    "\n",
    "Diversas opções:\n",
    "\n",
    "https://cocalc.com/features/jupyter-notebook\n",
    "https://www.codingrooms.com/compiler/jupyter-notebook\n",
    "https://mybinder.org/"
   ]
  },
  {
   "cell_type": "markdown",
   "metadata": {},
   "source": [
    "## Jupyter\n",
    "\n",
    "\n",
    "Os notebooks são uma forma de programação literária (documentação seja escrita como uma narrativa junto ao código em vez de ser uma coisa independente).\n",
    "\n",
    "O ponto central é o servidor do notebook. A conexão é feita no servidor por seu navegador e o notebook é carregado como um aplicativo web. O código escrito nesse aplicativo é mandado pelo servidor para o núcleo. O núcleo roda o código e o manda de volta para o servidor, então, o output é carregado no navegador. Ao salvar um notebook, ele é escrito no servidor como um arquivo JSON com a extensão .ipynb. O novo nome, Jupyter, vem da combinação dos nomes Julia, Python e R. Outra vantagem é que o servidor pode ser rodado e acessado via Internet. Normalmente, você rodará o servidor em sua própria máquina, onde todos os dados e arquivos notebook estão salvos. Mas, é possível também configurar um servidor em uma máquina remota ou instância de nuvem, como a EC2, da Amazon. Então, você pode acessar os notebooks em um navegador de qualquer lugar do planeta."
   ]
  },
  {
   "cell_type": "markdown",
   "metadata": {},
   "source": [
    "### jupyter notebook \n",
    "\n",
    "Links:     [Let's Code home page](https://letscode.com.br/)  \n",
    "Enfase:      Para itálico, inicie e termine o texto com um asterisco ou sublinhado, `_gelato_` ou `*gelato*` geram gelato. Texto em negrito usa dois símbolos, **abacate** ou __abacate__ geram abacate.\n",
    "Código  \n",
    "Existem duas maneiras diferentes de mostrar código, dentro do texto ou como um bloco de código separado do texto. Para o formato dentro do texto, insira acentos graves antes e depois do código. Por exemplo, `string.punctuation` gera string.punctuation.\n",
    "Expressões matemáticas É possível criar expressões matemáticas em células markdown usando os símbolos do LaTeX\n",
    "\n",
    "Cheat sheet:     https://github.com/adam-p/markdown-here/wiki/Markdown-Cheatsheet\n",
    "\n"
   ]
  },
  {
   "cell_type": "markdown",
   "metadata": {},
   "source": [
    "Dica para melhores práticas de estilo no python\n",
    "\n",
    "https://peps.python.org/pep-0008/"
   ]
  },
  {
   "cell_type": "code",
   "execution_count": 3,
   "metadata": {},
   "outputs": [
    {
     "name": "stdout",
     "output_type": "stream",
     "text": [
      "3\n"
     ]
    }
   ],
   "source": [
    "x = 1 + 2\n",
    "\n",
    "print(x)"
   ]
  },
  {
   "cell_type": "markdown",
   "metadata": {},
   "source": [
    "Vamos criar um arquivo chamado exemplo.py dentro da aula 02\n",
    "\n",
    "\n",
    "Como rodar o arquivo aexemplo.py  no terminal?\n",
    "\n",
    "- Abrir o terminal\n",
    "- Ir até a pasta onde se encontra o arquivo ou clicar com o botão direito em cima do exemplo e selecionar \"Abrir no terminal integrado\"\n",
    "- digitar python exemplo.py"
   ]
  },
  {
   "cell_type": "markdown",
   "metadata": {},
   "source": [
    "# Conteúdo"
   ]
  },
  {
   "cell_type": "markdown",
   "metadata": {},
   "source": [
    "# Variáveis, entradas e saídas"
   ]
  },
  {
   "cell_type": "code",
   "execution_count": 12,
   "metadata": {},
   "outputs": [],
   "source": [
    "x = 20"
   ]
  },
  {
   "cell_type": "markdown",
   "metadata": {},
   "source": [
    "**x** é a variável  \n",
    "**20** é o dado armazenado na variável  \n",
    "**=** operador de atribuição"
   ]
  },
  {
   "cell_type": "code",
   "execution_count": 4,
   "metadata": {},
   "outputs": [],
   "source": [
    "y = 'Renata'"
   ]
  },
  {
   "cell_type": "markdown",
   "metadata": {},
   "source": [
    "**y** é a variável  \n",
    "**Renata** é o dado armazenado na variável  \n",
    "**=** operador de atribuição"
   ]
  },
  {
   "cell_type": "markdown",
   "metadata": {},
   "source": [
    "### Tipos de variáveis\n",
    "\n",
    "- int: números inteiros, ou seja, números sem parte decimal: 0, 5, -1, 1000\n",
    "- float: números reais, ou seja, números com parte decimal: 1.0, -2.7, 3.14\n",
    "- str: cadeias de caracteres (strings), ou seja, dados textuais: 'Olá Mundo!', \"eu tenho 18 anos\"\n",
    "- bool: valores lógicos (booleanos), ou seja, apenas um entre dois valores possíveis: True ou False"
   ]
  },
  {
   "cell_type": "code",
   "execution_count": 5,
   "metadata": {},
   "outputs": [],
   "source": [
    "idade = 27 # uma variável inteira\n",
    "salario = 5835.87 #decimal no python é \".\" e não vírgula -> variável é do tipo float\n",
    "nome = 'Luciano' # variável do tipo string. STRING  aspas simples ou aspas dupla\n",
    "nome_alternativa = \"Let's Code\" # variavel do tipo string ou str\n",
    "receberNewsletter = True #variavel do tipo booleana ATENÇÃO: primeira letra maiúscula"
   ]
  },
  {
   "cell_type": "code",
   "execution_count": 8,
   "metadata": {},
   "outputs": [],
   "source": [
    "# receberNewsletter = TRUE \n",
    "# receberNewsletter = true "
   ]
  },
  {
   "cell_type": "markdown",
   "metadata": {},
   "source": [
    "Comentário dentro do código"
   ]
  },
  {
   "cell_type": "code",
   "execution_count": 9,
   "metadata": {},
   "outputs": [
    {
     "data": {
      "text/plain": [
       "'\\nO python irá ignorar um bloco de linhas com aspas triplas\\n'"
      ]
     },
     "execution_count": 9,
     "metadata": {},
     "output_type": "execute_result"
    }
   ],
   "source": [
    "# o python usa o # para comentar uma linha, ou seja, o python vai ignorar tudo que vem depois do # nessa linha\n",
    "\n",
    "'''\n",
    "O python irá ignorar um bloco de linhas com aspas triplas\n",
    "'''"
   ]
  },
  {
   "cell_type": "markdown",
   "metadata": {},
   "source": [
    "Tecla de atalho para comentar uma ou mais linhas (selecionadas): ctrl + ; no windows  \n",
    "No mac é CDM + /"
   ]
  },
  {
   "cell_type": "markdown",
   "metadata": {},
   "source": [
    "- Saída"
   ]
  },
  {
   "cell_type": "code",
   "execution_count": 10,
   "metadata": {},
   "outputs": [
    {
     "name": "stdout",
     "output_type": "stream",
     "text": [
      "Olá Mundo\n"
     ]
    }
   ],
   "source": [
    "print('Olá Mundo')"
   ]
  },
  {
   "cell_type": "code",
   "execution_count": 13,
   "metadata": {},
   "outputs": [
    {
     "name": "stdout",
     "output_type": "stream",
     "text": [
      "20\n"
     ]
    }
   ],
   "source": [
    "print(x) # Lembrando que dentro da variável x tem o dado inteiro 20"
   ]
  },
  {
   "cell_type": "code",
   "execution_count": 15,
   "metadata": {},
   "outputs": [
    {
     "ename": "NameError",
     "evalue": "name 'z' is not defined",
     "output_type": "error",
     "traceback": [
      "\u001b[1;31m---------------------------------------------------------------------------\u001b[0m",
      "\u001b[1;31mNameError\u001b[0m                                 Traceback (most recent call last)",
      "\u001b[1;32m~\\AppData\\Local\\Temp/ipykernel_38860/4192644022.py\u001b[0m in \u001b[0;36m<module>\u001b[1;34m\u001b[0m\n\u001b[1;32m----> 1\u001b[1;33m \u001b[0mprint\u001b[0m\u001b[1;33m(\u001b[0m\u001b[0mz\u001b[0m\u001b[1;33m)\u001b[0m \u001b[1;31m# z não foi definido\u001b[0m\u001b[1;33m\u001b[0m\u001b[1;33m\u001b[0m\u001b[0m\n\u001b[0m",
      "\u001b[1;31mNameError\u001b[0m: name 'z' is not defined"
     ]
    }
   ],
   "source": [
    "print(z) # z não foi definido"
   ]
  },
  {
   "cell_type": "code",
   "execution_count": 16,
   "metadata": {},
   "outputs": [
    {
     "data": {
      "text/plain": [
       "20"
      ]
     },
     "execution_count": 16,
     "metadata": {},
     "output_type": "execute_result"
    }
   ],
   "source": [
    "# no jupyter notebook não precisa colocar print, se vc o que for gerado estiver na última linha da célula\n",
    "x"
   ]
  },
  {
   "cell_type": "code",
   "execution_count": 20,
   "metadata": {},
   "outputs": [
    {
     "name": "stdout",
     "output_type": "stream",
     "text": [
      "A variável x tem o valor de 20 e y tem o valor de Renata\n",
      "A variável x tem o valor de 20 e y tem o valor de Renata\n",
      "A variável x tem o valor de 20 e y tem o valor de Renata\n"
     ]
    }
   ],
   "source": [
    "print(f'A variável x tem o valor de {x} e y tem o valor de {y}') # F-string\n",
    "print('A variável x tem o valor de' , x, 'e y tem o valor de', y)\n",
    "print('A variável x tem o valor de {} e y tem o valor de {}'.format(x, y))"
   ]
  },
  {
   "cell_type": "markdown",
   "metadata": {},
   "source": [
    "- Entrada\n",
    "\n",
    "Dados fornecidos pelo usuário (por exemplo, dados pelo teclado) -> função input\n",
    "\n",
    "input() # -> abre um campo para colocar o dado"
   ]
  },
  {
   "cell_type": "code",
   "execution_count": 21,
   "metadata": {},
   "outputs": [],
   "source": [
    "z = 2 #atribuindo o valor 2 a variavel z -> é um tipo de entrada\n",
    "\n",
    "z = input() # pedindo um dado do teclado (do usuário)\n"
   ]
  },
  {
   "cell_type": "code",
   "execution_count": 23,
   "metadata": {},
   "outputs": [
    {
     "name": "stdout",
     "output_type": "stream",
     "text": [
      "Nome digitado é Flávio\n"
     ]
    }
   ],
   "source": [
    "armazenar_nome = input('Digite seu nome: ')\n",
    "\n",
    "print('Nome digitado é', armazenar_nome)"
   ]
  },
  {
   "cell_type": "code",
   "execution_count": 24,
   "metadata": {},
   "outputs": [
    {
     "data": {
      "text/plain": [
       "str"
      ]
     },
     "execution_count": 24,
     "metadata": {},
     "output_type": "execute_result"
    }
   ],
   "source": [
    "type(z)"
   ]
  },
  {
   "cell_type": "code",
   "execution_count": 26,
   "metadata": {},
   "outputs": [
    {
     "name": "stdout",
     "output_type": "stream",
     "text": [
      "2.0\n",
      "<class 'float'>\n"
     ]
    }
   ],
   "source": [
    "z = float(input(\"Digite um número\"))\n",
    "\n",
    "print(z)\n",
    "print(type(z))"
   ]
  },
  {
   "cell_type": "markdown",
   "metadata": {},
   "source": [
    "### Operadores\n",
    "\n",
    "- Soma: +\n",
    "- Subtração: -\n",
    "- Multiplicação: *\n",
    "- Divisão: /\n",
    "- Divisão inteira: //\n",
    "- Resto da divisão: %\n",
    "- Potência: **"
   ]
  },
  {
   "cell_type": "code",
   "execution_count": 27,
   "metadata": {},
   "outputs": [
    {
     "name": "stdout",
     "output_type": "stream",
     "text": [
      "Valor de a: 30\n",
      "Valor de b: 20\n"
     ]
    }
   ],
   "source": [
    "a = int(input('Digite um número: ')) # acrescentando o int para transformar a entrada de string em int\n",
    "b = int(input('Digite outro número: '))\n",
    "\n",
    "print('Valor de a:', a)\n",
    "print('Valor de b:', b)"
   ]
  },
  {
   "cell_type": "code",
   "execution_count": 28,
   "metadata": {},
   "outputs": [],
   "source": [
    "soma = a + b\n",
    "subtrai = a - b\n",
    "multiplica = a * b\n",
    "divide = a / b\n",
    "divide_inteiro = a // b\n",
    "resto_divisao = a % b\n",
    "potencia = a ** 2 # (potencia de 2)"
   ]
  },
  {
   "cell_type": "code",
   "execution_count": 29,
   "metadata": {},
   "outputs": [
    {
     "name": "stdout",
     "output_type": "stream",
     "text": [
      "Soma: 50\n",
      "Subtração: 10\n",
      "Multiplicação: 600\n",
      "Divisão: 1.5\n",
      "Divisão inteira: 1\n",
      "Resto da divisão: 10\n",
      "Potenciação: 900\n"
     ]
    }
   ],
   "source": [
    "print('Soma:', soma)\n",
    "print('Subtração:', subtrai)\n",
    "print('Multiplicação:', multiplica)\n",
    "print('Divisão:', divide)\n",
    "print('Divisão inteira:', divide_inteiro)\n",
    "print('Resto da divisão:', resto_divisao)\n",
    "print('Potenciação:', potencia)"
   ]
  },
  {
   "cell_type": "markdown",
   "metadata": {},
   "source": [
    "### Operadores lógicos\n",
    "\n",
    "**Operadores Booleanos**\n",
    "\n",
    "  \n",
    "- Maior que: >\n",
    "- Maior ou igual: >=\n",
    "- Menor que: <\n",
    "- Menor ou igual: <=\n",
    "- Igual: == \n",
    "- Diferente: !="
   ]
  },
  {
   "cell_type": "code",
   "execution_count": 30,
   "metadata": {},
   "outputs": [
    {
     "data": {
      "text/plain": [
       "True"
      ]
     },
     "execution_count": 30,
     "metadata": {},
     "output_type": "execute_result"
    }
   ],
   "source": [
    "5 > 3"
   ]
  },
  {
   "cell_type": "code",
   "execution_count": 31,
   "metadata": {},
   "outputs": [
    {
     "name": "stdout",
     "output_type": "stream",
     "text": [
      "True\n"
     ]
    }
   ],
   "source": [
    "comparacao = 5 > 3\n",
    "\n",
    "print(comparacao)"
   ]
  },
  {
   "cell_type": "code",
   "execution_count": 32,
   "metadata": {},
   "outputs": [
    {
     "data": {
      "text/plain": [
       "False"
      ]
     },
     "execution_count": 32,
     "metadata": {},
     "output_type": "execute_result"
    }
   ],
   "source": [
    "5 < 3"
   ]
  },
  {
   "cell_type": "code",
   "execution_count": 33,
   "metadata": {},
   "outputs": [
    {
     "data": {
      "text/plain": [
       "False"
      ]
     },
     "execution_count": 33,
     "metadata": {},
     "output_type": "execute_result"
    }
   ],
   "source": [
    "5 == 3 # comparação de igualdade"
   ]
  },
  {
   "cell_type": "code",
   "execution_count": 35,
   "metadata": {},
   "outputs": [
    {
     "ename": "SyntaxError",
     "evalue": "cannot assign to literal (Temp/ipykernel_38860/2116258747.py, line 1)",
     "output_type": "error",
     "traceback": [
      "\u001b[1;36m  File \u001b[1;32m\"C:\\Users\\RMM\\AppData\\Local\\Temp/ipykernel_38860/2116258747.py\"\u001b[1;36m, line \u001b[1;32m1\u001b[0m\n\u001b[1;33m    5 = 3 # NÃO EXISTE - OPERADOR = (IGUAL) É DE ATRIBUIÇÃO E NÃO COMPARAÇÃO\u001b[0m\n\u001b[1;37m    ^\u001b[0m\n\u001b[1;31mSyntaxError\u001b[0m\u001b[1;31m:\u001b[0m cannot assign to literal\n"
     ]
    }
   ],
   "source": [
    "5 = 3 # NÃO EXISTE - OPERADOR = (IGUAL) É DE ATRIBUIÇÃO E NÃO COMPARAÇÃO"
   ]
  },
  {
   "cell_type": "code",
   "execution_count": 36,
   "metadata": {},
   "outputs": [
    {
     "data": {
      "text/plain": [
       "True"
      ]
     },
     "execution_count": 36,
     "metadata": {},
     "output_type": "execute_result"
    }
   ],
   "source": [
    "5 != 3 "
   ]
  },
  {
   "cell_type": "markdown",
   "metadata": {},
   "source": [
    "**Conjunções lógicas**\n",
    "\n",
    "- and: verdadeiro se condição 1 for verdadeira **e** condição 2 for verdadeira\n",
    "- or: verdadeiro se condição 1 for verdadeira **ou** condição 2 for verdadeira"
   ]
  },
  {
   "cell_type": "code",
   "execution_count": 38,
   "metadata": {},
   "outputs": [
    {
     "name": "stdout",
     "output_type": "stream",
     "text": [
      "Media: 5.0 \n",
      "Frequencia: 1.0\n",
      "Aluno aprovado: False\n"
     ]
    }
   ],
   "source": [
    "# aprovado -> média tem que ser maior ou igual a 6 E a frequencia tem que ser maior ou igual a 0.75\n",
    "\n",
    "media = float(input('Digite a média do aluno :'))\n",
    "freq = float(input('Digite a frequencia do aluno :'))\n",
    "\n",
    "print('Media:', media, '\\nFrequencia:', freq)  # \\n pula linha\n",
    "\n",
    "aprovado = (media >= 6.0) and (freq >= 0.75)\n",
    "\n",
    "print('Aluno aprovado:', aprovado)"
   ]
  },
  {
   "cell_type": "code",
   "execution_count": 39,
   "metadata": {},
   "outputs": [
    {
     "name": "stdout",
     "output_type": "stream",
     "text": [
      "acabou a promoção True\n"
     ]
    }
   ],
   "source": [
    "# Promoção válida até dia x ou até durar o estoque\n",
    "\n",
    "diaFinal = int(input('Digite o dia do mês para encerrar a promoção: '))\n",
    "diaAtual = int(input('Digite o dia do mês atual: '))\n",
    "estoque = int(input('Digite a quantidade de itens no estoque: '))\n",
    "\n",
    "acabou = (diaAtual > diaFinal) or (estoque == 0)\n",
    "print(\"acabou a promoção\", acabou)"
   ]
  },
  {
   "cell_type": "markdown",
   "metadata": {},
   "source": [
    "### Expressões condicionais\n",
    "\n",
    "**Se**"
   ]
  },
  {
   "cell_type": "code",
   "execution_count": 44,
   "metadata": {},
   "outputs": [
    {
     "name": "stdout",
     "output_type": "stream",
     "text": [
      "Media: 6.0 \n",
      "Frequencia: 1.0\n",
      "Aluno aprovado\n"
     ]
    }
   ],
   "source": [
    "# aprovado -> média tem que ser maior ou igual a 6 E a frequencia tem que ser maior ou igual a 0.75\n",
    "\n",
    "media = float(input('Digite a média do aluno :'))\n",
    "freq = float(input('Digite a frequencia do aluno :'))\n",
    "\n",
    "print('Media:', media, '\\nFrequencia:', freq)  # \\n pula linha\n",
    "\n",
    "if (media >= 6.0) and (freq >= 0.75):\n",
    "    print('Aluno aprovado')\n",
    "    \n",
    "    \n",
    "\n"
   ]
  },
  {
   "cell_type": "code",
   "execution_count": 46,
   "metadata": {},
   "outputs": [
    {
     "name": "stdout",
     "output_type": "stream",
     "text": [
      "Media: 6.0 \n",
      "Frequencia: 1.0\n",
      "Aluno aprovado\n"
     ]
    }
   ],
   "source": [
    "# aprovado -> média tem que ser maior ou igual a 6 E a frequencia tem que ser maior ou igual a 0.75\n",
    "\n",
    "media = float(input('Digite a média do aluno :'))\n",
    "freq = float(input('Digite a frequencia do aluno :'))\n",
    "\n",
    "print('Media:', media, '\\nFrequencia:', freq)  # \\n pula linha\n",
    "\n",
    "if (media >= 6.0) and (freq >= 0.75): # Se\n",
    "    print('Aluno aprovado')\n",
    "else: #caso contrário\n",
    "    print('Aluno reprovado')"
   ]
  },
  {
   "cell_type": "markdown",
   "metadata": {},
   "source": [
    "```python\n",
    "\n",
    "if condicao(comparação) :\n",
    "    to do (se for verdadeiro)\n",
    "else:\n",
    "    to do (caso contrario)\n",
    "\n",
    "```"
   ]
  },
  {
   "cell_type": "markdown",
   "metadata": {},
   "source": [
    "Aninhando as condições"
   ]
  },
  {
   "cell_type": "code",
   "execution_count": 47,
   "metadata": {},
   "outputs": [
    {
     "name": "stdout",
     "output_type": "stream",
     "text": [
      "Aluno em recuperação\n"
     ]
    }
   ],
   "source": [
    "# aluno aprovado com média 6\n",
    "# aluno em recuperação com média entre 3 e 5.9\n",
    "\n",
    "media = float(input('Digite a média do aluno :'))\n",
    "\n",
    "\n",
    "if media >= 6: # se aluno tem média acima de 6\n",
    "    print('Aluno aprovado')\n",
    "else: # caso contrário (condição falsa)\n",
    "    if media >= 3.0: # se aluno tem média acima de 3\n",
    "        print('Aluno em recuperação')\n",
    "    else: # Se aluno tem média abaixo de 3\n",
    "        print('Aluno reprovado')"
   ]
  },
  {
   "cell_type": "markdown",
   "metadata": {},
   "source": [
    "```python\n",
    "if condicao :\n",
    "    to do\n",
    "else:\n",
    "    if condicao:\n",
    "    else:\n",
    "        if condicaoo:\n",
    "            else:\n",
    "                if condicao:\n",
    "                    else:\n",
    "\n",
    "```"
   ]
  },
  {
   "cell_type": "code",
   "execution_count": 48,
   "metadata": {},
   "outputs": [
    {
     "name": "stdout",
     "output_type": "stream",
     "text": [
      "Aluno em recuperação\n"
     ]
    }
   ],
   "source": [
    "# aluno aprovado com média 6\n",
    "# aluno em recuperação com média entre 3 e 5.9\n",
    "# abaixo de 3 está reprovado\n",
    "\n",
    "media = float(input('Digite a média do aluno :'))\n",
    "\n",
    "\n",
    "if media >= 6: # se aluno tem média acima de 6\n",
    "    print('Aluno aprovado')\n",
    "elif media >=3:\n",
    "    print('Aluno em recuperação')\n",
    "else:\n",
    "    print('Aluno reprovado')"
   ]
  },
  {
   "cell_type": "markdown",
   "metadata": {},
   "source": [
    "### Malhas de repetição"
   ]
  },
  {
   "cell_type": "code",
   "execution_count": 49,
   "metadata": {},
   "outputs": [
    {
     "name": "stdout",
     "output_type": "stream",
     "text": [
      "1\n",
      "2\n",
      "3\n",
      "4\n",
      "5\n"
     ]
    }
   ],
   "source": [
    "# Quero exibir na tela os número de 1 a 5 (um em cada linha)\n",
    "\n",
    "print(1)\n",
    "print(2)\n",
    "print(3)\n",
    "print(4)\n",
    "print(5)"
   ]
  },
  {
   "cell_type": "markdown",
   "metadata": {},
   "source": [
    "Como exibir números de 1 a 100?"
   ]
  },
  {
   "cell_type": "markdown",
   "metadata": {},
   "source": [
    "- Enquanto (while)\n",
    "\n",
    "Resolver o problema de sequência (acima)\n"
   ]
  },
  {
   "cell_type": "code",
   "execution_count": 50,
   "metadata": {},
   "outputs": [
    {
     "name": "stdout",
     "output_type": "stream",
     "text": [
      "Digite uma idade entre 0 e 120\n"
     ]
    }
   ],
   "source": [
    "idade = int(input('Digite uma idade: '))\n",
    "\n",
    "if idade < 0 or idade > 120:\n",
    "    print('Digite uma idade entre 0 e 120')"
   ]
  },
  {
   "cell_type": "markdown",
   "metadata": {},
   "source": [
    "\"Execute enquanto a condição for verdadeira\"  \n",
    "\n",
    "*loop*"
   ]
  },
  {
   "cell_type": "code",
   "execution_count": 52,
   "metadata": {},
   "outputs": [
    {
     "name": "stdout",
     "output_type": "stream",
     "text": [
      "Digite a idade entre 0 e 120\n",
      "Digite a idade entre 0 e 120\n",
      "Obrigada\n"
     ]
    }
   ],
   "source": [
    "# enquanto o usuário não digita a idade correta (entre 0 e 120), mostre uma mensagem de \"erro\" e peça novamente a idade\n",
    "\n",
    "idade = int(input('Digite uma idade: '))\n",
    "\n",
    "while (idade <= 0) or (idade >= 120):\n",
    "    print('Digite a idade entre 0 e 120')\n",
    "    idade = int(input('Digite uma idade: '))\n",
    "\n",
    "print('Obrigada')"
   ]
  },
  {
   "cell_type": "code",
   "execution_count": null,
   "metadata": {},
   "outputs": [],
   "source": [
    "# enquanto o usuário não digite a idade correta (entre 0 e 120), mostre uma mensagem de \"erro\" e peça novamente a idade\n",
    "\n",
    "idade = int(input('Digite uma idade: '))\n",
    "\n",
    "while idade <= 0 or idade >= 120:\n",
    "    print('Digite a idade entre 0 e 120')\n",
    "    # RETIREI O INPUT\n",
    "\n",
    "print('Obrigada')"
   ]
  },
  {
   "cell_type": "markdown",
   "metadata": {},
   "source": [
    "\n",
    "### *********************** CUIDADO **********************\n",
    "Exemplo acima entrou em looping!!! LOOP INFINITO\n",
    "\n",
    "WHILE PRECISA DE UMA CONDIÇÃO DE PARADA"
   ]
  },
  {
   "cell_type": "markdown",
   "metadata": {},
   "source": [
    "- sequência numérica"
   ]
  },
  {
   "cell_type": "code",
   "execution_count": 53,
   "metadata": {},
   "outputs": [
    {
     "name": "stdout",
     "output_type": "stream",
     "text": [
      "6\n"
     ]
    }
   ],
   "source": [
    "x = 5\n",
    "x = x + 1\n",
    "print(x)"
   ]
  },
  {
   "cell_type": "code",
   "execution_count": 54,
   "metadata": {},
   "outputs": [
    {
     "name": "stdout",
     "output_type": "stream",
     "text": [
      "6\n"
     ]
    }
   ],
   "source": [
    "# outra forma\n",
    "x = 5\n",
    "x += 1 # (adicionando 1 ou incrementando a variável em 1)\n",
    "print(x)"
   ]
  },
  {
   "cell_type": "code",
   "execution_count": 55,
   "metadata": {},
   "outputs": [
    {
     "name": "stdout",
     "output_type": "stream",
     "text": [
      "1\n",
      "2\n",
      "3\n",
      "4\n",
      "5\n",
      "6\n"
     ]
    }
   ],
   "source": [
    "final = int(input('Digite o valor final de uma sequencia: '))\n",
    "numero = 1\n",
    "\n",
    "while numero <= final: # executar até a variavel numero for igual a variavel final\n",
    "    print(numero)\n",
    "    numero = numero + 1 "
   ]
  },
  {
   "cell_type": "code",
   "execution_count": 56,
   "metadata": {},
   "outputs": [
    {
     "name": "stdout",
     "output_type": "stream",
     "text": [
      "1\n",
      "2\n",
      "3\n",
      "4\n",
      "5\n",
      "6\n",
      "7\n",
      "8\n"
     ]
    }
   ],
   "source": [
    "final = int(input('Digite o valor final de uma sequencia: '))\n",
    "numero = 1\n",
    "\n",
    "while numero <= final: # executar até a variavel numero for igual a variavel final\n",
    "    print(numero)\n",
    "    numero += 1 # incrementando o valor 1 à variável numero"
   ]
  },
  {
   "cell_type": "markdown",
   "metadata": {},
   "source": [
    "- Malhas de repetição com contador\n",
    "\n",
    "A ideia é de quantas vezes o loop se repete e para quanto atinge o valor"
   ]
  },
  {
   "cell_type": "code",
   "execution_count": 58,
   "metadata": {},
   "outputs": [
    {
     "name": "stdout",
     "output_type": "stream",
     "text": [
      "0\n",
      "2\n",
      "4\n",
      "6\n",
      "8\n"
     ]
    }
   ],
   "source": [
    "contador = 0\n",
    "\n",
    "while contador < 10:\n",
    "    print(contador)\n",
    "    contador = contador + 2"
   ]
  },
  {
   "cell_type": "markdown",
   "metadata": {},
   "source": [
    "### Loops do tipo \"para\" -> FOR\n",
    "\n",
    "contador é uma variável e não precisa ser criada\n",
    "\n",
    "irá executar x vezes"
   ]
  },
  {
   "cell_type": "code",
   "execution_count": 63,
   "metadata": {},
   "outputs": [
    {
     "name": "stdout",
     "output_type": "stream",
     "text": [
      "0\n",
      "1\n",
      "2\n",
      "3\n",
      "4\n",
      "5\n",
      "6\n",
      "7\n",
      "8\n",
      "9\n"
     ]
    }
   ],
   "source": [
    "for contador in range(10):\n",
    "    print(contador)  # (repete essa linha 10 vezes)"
   ]
  },
  {
   "cell_type": "markdown",
   "metadata": {},
   "source": [
    "Lembrando do range\n",
    "\n",
    "- podemos procurar no buscador, por exemplo: python range\n",
    "- procurar a documentação oficial do pyhton: https://docs.python.org/3/library/functions.html\n",
    "- alternativa é stackoverflow, towardsdatascience, realpython, medium"
   ]
  },
  {
   "cell_type": "code",
   "execution_count": 61,
   "metadata": {},
   "outputs": [
    {
     "data": {
      "text/plain": [
       "range(0, 10)"
      ]
     },
     "execution_count": 61,
     "metadata": {},
     "output_type": "execute_result"
    }
   ],
   "source": [
    "range(10) # sequencia que inicia no zero e vai até o 10 (não inclui o 10)\n",
    "\n",
    "range(0, 10) # sequencia que inicia no zero e vai até o 10 (não inclui o 10)\n",
    "\n",
    "range(0, 10, 1) # sequencia que inicia no zero, vai até o 10 (não inclui o 10) e tem o passo de 1 em 1"
   ]
  },
  {
   "cell_type": "code",
   "execution_count": 62,
   "metadata": {},
   "outputs": [
    {
     "data": {
      "text/plain": [
       "range(0, 10, 2)"
      ]
     },
     "execution_count": 62,
     "metadata": {},
     "output_type": "execute_result"
    }
   ],
   "source": [
    "range(0, 10, 2) # sequencia que inicia no zero, vai até o 10 (não inclui o 10) e tem o passo de 2 em 2"
   ]
  },
  {
   "cell_type": "markdown",
   "metadata": {},
   "source": [
    "** No python ele sempre começa no ZERO"
   ]
  },
  {
   "cell_type": "code",
   "execution_count": 64,
   "metadata": {},
   "outputs": [
    {
     "name": "stdout",
     "output_type": "stream",
     "text": [
      "1\n",
      "2\n",
      "3\n",
      "4\n",
      "5\n",
      "6\n",
      "7\n",
      "8\n",
      "9\n",
      "10\n"
     ]
    }
   ],
   "source": [
    "for contador in range(1, 11): # valor final é EXCLUSIVO (não entra no conjunto)\n",
    "    print(contador)"
   ]
  },
  {
   "cell_type": "code",
   "execution_count": 65,
   "metadata": {},
   "outputs": [
    {
     "name": "stdout",
     "output_type": "stream",
     "text": [
      "0\n",
      "1\n",
      "2\n",
      "3\n",
      "4\n",
      "5\n",
      "6\n",
      "7\n",
      "8\n",
      "9\n"
     ]
    }
   ],
   "source": [
    "for contador in range(0, 10, 1): # valor inicial é 0, valor final é EXCLUSIVO (não entra no conjunto), e o 1 é passo\n",
    "    print(contador)"
   ]
  },
  {
   "cell_type": "code",
   "execution_count": 66,
   "metadata": {},
   "outputs": [
    {
     "name": "stdout",
     "output_type": "stream",
     "text": [
      "0\n",
      "2\n",
      "4\n",
      "6\n",
      "8\n"
     ]
    }
   ],
   "source": [
    "for contador in range(0, 10, 2): # valor inicial é 0, valor final é EXCLUSIVO (não entra no conjunto), e o 1 é passo\n",
    "    print(contador)"
   ]
  },
  {
   "cell_type": "markdown",
   "metadata": {},
   "source": [
    "```python\n",
    "for contador in range(FINAL):\n",
    "    print(contador)\n",
    "    \n",
    "for contador in range(INICIAL, FINAL):\n",
    "    print(contador)\n",
    "    \n",
    "for contador in range(INICIAL, FINAL, PASSO):\n",
    "    print(contador)\n",
    "```"
   ]
  },
  {
   "cell_type": "code",
   "execution_count": 67,
   "metadata": {},
   "outputs": [
    {
     "name": "stdout",
     "output_type": "stream",
     "text": [
      "20\n",
      "18\n",
      "16\n",
      "14\n",
      "12\n",
      "10\n",
      "8\n",
      "6\n",
      "4\n"
     ]
    }
   ],
   "source": [
    "for contador in range(20, 2, -2):\n",
    "    print(contador)"
   ]
  },
  {
   "cell_type": "markdown",
   "metadata": {},
   "source": [
    "**Break Statement**"
   ]
  },
  {
   "cell_type": "markdown",
   "metadata": {},
   "source": [
    "```python\n",
    "for elemento in sequencia:\n",
    "    # entra no loop\n",
    "    if condicao:\n",
    "        break # se passa por aqui, sai do loop\n",
    "    \n",
    "\n",
    "while expressao:\n",
    "    # entra no loop\n",
    "    if condicao:\n",
    "        break # sai do loop\n",
    "\n",
    "\n",
    "```"
   ]
  },
  {
   "cell_type": "code",
   "execution_count": 68,
   "metadata": {},
   "outputs": [
    {
     "name": "stdout",
     "output_type": "stream",
     "text": [
      "s\n",
      "t\n",
      "r\n",
      "FIM\n"
     ]
    }
   ],
   "source": [
    "for variavel in 'string':\n",
    "    if variavel == 'i': # condição verdadeira quando a var é igual a \"i\"\n",
    "        break # sai do loop\n",
    "    print(variavel)\n",
    "    \n",
    "print('FIM') # continua executando o código"
   ]
  },
  {
   "cell_type": "markdown",
   "metadata": {},
   "source": [
    "**Continue Statement**\n",
    "\n",
    "```python\n",
    "for elemento in sequencia:\n",
    "    # entra no loop\n",
    "    if condicao:\n",
    "        continue # se passa por aqui, continua no loop\n",
    "# sai do loop    \n",
    "\n",
    "\n",
    "while expressao:\n",
    "    # entra no loop\n",
    "    if condicao:\n",
    "        continue # se passa por aqui, continua no loop\n",
    "# sai do loop    \n",
    "\n",
    "```"
   ]
  },
  {
   "cell_type": "code",
   "execution_count": 69,
   "metadata": {},
   "outputs": [
    {
     "name": "stdout",
     "output_type": "stream",
     "text": [
      "s\n",
      "t\n",
      "r\n",
      "n\n",
      "g\n",
      "FIM\n"
     ]
    }
   ],
   "source": [
    "for variavel in 'string':\n",
    "    if variavel == 'i': # condição verdadeira quando a var é igual a \"i\"\n",
    "        continue # não sai do loop\n",
    "    print(variavel)\n",
    "    \n",
    "print('FIM') # continua executando o código"
   ]
  },
  {
   "cell_type": "code",
   "execution_count": null,
   "metadata": {},
   "outputs": [],
   "source": []
  },
  {
   "cell_type": "code",
   "execution_count": null,
   "metadata": {},
   "outputs": [],
   "source": []
  }
 ],
 "metadata": {
  "kernelspec": {
   "display_name": "Python 3.9.7 ('base')",
   "language": "python",
   "name": "python3"
  },
  "language_info": {
   "codemirror_mode": {
    "name": "ipython",
    "version": 3
   },
   "file_extension": ".py",
   "mimetype": "text/x-python",
   "name": "python",
   "nbconvert_exporter": "python",
   "pygments_lexer": "ipython3",
   "version": "3.9.7"
  },
  "orig_nbformat": 4,
  "vscode": {
   "interpreter": {
    "hash": "5c66de18c091297d67c9a295278ca9503b5163a383fa85591c3cdb6daec33020"
   }
  }
 },
 "nbformat": 4,
 "nbformat_minor": 2
}
